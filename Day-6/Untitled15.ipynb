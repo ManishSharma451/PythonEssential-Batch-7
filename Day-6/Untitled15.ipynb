{
 "cells": [
  {
   "cell_type": "code",
   "execution_count": 2,
   "metadata": {},
   "outputs": [
    {
     "name": "stdout",
     "output_type": "stream",
     "text": [
      "Hello User!!! Welcome to the Deposit & Withdrawal Machine\n",
      "Enter amount to be Deposited: 10000\n",
      "\n",
      " Amount Deposited: 10000.0\n",
      "Enter amount to be Withdrawn: 12000\n",
      "\n",
      " Insufficient balance \n",
      "\n",
      " Net Available Balance= 10000.0\n"
     ]
    }
   ],
   "source": [
    "# Python program to create Bank class \n",
    "# with both a deposit() and a withdraw() function \n",
    "class Bank_Account: \n",
    "    def __init__(self): \n",
    "        self.balance=0\n",
    "        print(\"Hello User!!! Welcome to the Deposit & Withdrawal Machine\") \n",
    "\n",
    "    def deposit(self): \n",
    "        amount=float(input(\"Enter amount to be Deposited: \")) \n",
    "        self.balance += amount \n",
    "        print(\"\\n Amount Deposited:\",amount) \n",
    "\n",
    "    def withdraw(self): \n",
    "        amount = float(input(\"Enter amount to be Withdrawn: \")) \n",
    "        if self.balance>=amount: \n",
    "            self.balance-=amount \n",
    "            print(\"\\n You Withdrew:\", amount) \n",
    "        else: \n",
    "            print(\"\\n Insufficient balance \") \n",
    "\n",
    "    def display(self): \n",
    "        print(\"\\n Net Available Balance=\",self.balance) \n",
    "\n",
    " \n",
    "s = Bank_Account() \n",
    "\n",
    "\n",
    "s.deposit() \n",
    "s.withdraw() \n",
    "s.display() \n"
   ]
  },
  {
   "cell_type": "code",
   "execution_count": 4,
   "metadata": {},
   "outputs": [
    {
     "name": "stdout",
     "output_type": "stream",
     "text": [
      "Volume Of Cone :  314.15926535897927\n",
      "Surface Area Of Cone :  282.7433388230814\n"
     ]
    }
   ],
   "source": [
    "''' Python3 program to calculate Volume and Surface area of Cone'''\n",
    "\n",
    "# Importing Math library for value Of PI \n",
    "import math \n",
    "pi = math.pi \n",
    "\n",
    "# Function to calculate Volume of Cone \n",
    "def volume(r, h): \n",
    "\treturn (1 / 3) * pi * r * r * h \n",
    "\n",
    "# Function To Calculate Surface Area of Cone \n",
    "def surfacearea(r, s): \n",
    "\treturn pi * r * s + pi * r * r \n",
    "\n",
    " \n",
    "radius = float(5) \n",
    "height = float(12) \n",
    "slat_height = float(13) \n",
    "print( \"Volume Of Cone : \", volume(radius, height) ) \n",
    "print( \"Surface Area Of Cone : \", surfacearea(radius, slat_height) ) \n"
   ]
  },
  {
   "cell_type": "code",
   "execution_count": null,
   "metadata": {},
   "outputs": [],
   "source": []
  }
 ],
 "metadata": {
  "kernelspec": {
   "display_name": "Python 3",
   "language": "python",
   "name": "python3"
  },
  "language_info": {
   "codemirror_mode": {
    "name": "ipython",
    "version": 3
   },
   "file_extension": ".py",
   "mimetype": "text/x-python",
   "name": "python",
   "nbconvert_exporter": "python",
   "pygments_lexer": "ipython3",
   "version": "3.8.3"
  }
 },
 "nbformat": 4,
 "nbformat_minor": 4
}
