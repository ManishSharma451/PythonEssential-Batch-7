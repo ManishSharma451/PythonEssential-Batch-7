{
 "cells": [
  {
   "cell_type": "code",
   "execution_count": 11,
   "metadata": {},
   "outputs": [
    {
     "name": "stdout",
     "output_type": "stream",
     "text": [
      " Please Enter Current Altitude:  1000\n",
      "Safe to land \n"
     ]
    }
   ],
   "source": [
    "Altitude = int(input(\" Please Enter Current Altitude:  \"))\n",
    "if Altitude > 5000:\n",
    "    print(\"Turn around and Try later \")\n",
    "elif Altitude <=5000 and Altitude >1000:\n",
    "    print(\"Bring down to 1000ft \")\n",
    "elif Altitude <= 1000:\n",
    "    print(\"Safe to land \")\n",
    "else:\n",
    "    print(\" Turn Around and Try later \")"
   ]
  },
  {
   "cell_type": "code",
   "execution_count": 12,
   "metadata": {},
   "outputs": [
    {
     "name": "stdout",
     "output_type": "stream",
     "text": [
      " Please Enter Current Altitude:  4500\n",
      "Bring down to 1000ft \n"
     ]
    }
   ],
   "source": [
    "Altitude = int(input(\" Please Enter Current Altitude:  \"))\n",
    "if Altitude > 5000:\n",
    "    print(\"Turn around and Try later \")\n",
    "elif Altitude <=5000 and Altitude >1000:\n",
    "    print(\"Bring down to 1000ft \")\n",
    "elif Altitude <= 1000:\n",
    "    print(\"Safe to land \")\n",
    "else:\n",
    "    print(\" Turn Around and Try later \")"
   ]
  },
  {
   "cell_type": "code",
   "execution_count": 13,
   "metadata": {},
   "outputs": [
    {
     "name": "stdout",
     "output_type": "stream",
     "text": [
      " Please Enter Current Altitude:  6500\n",
      "Turn around and Try later \n"
     ]
    }
   ],
   "source": [
    "Altitude = int(input(\" Please Enter Current Altitude:  \"))\n",
    "if Altitude > 5000:\n",
    "    print(\"Turn around and Try later \")\n",
    "elif Altitude <=5000 and Altitude >1000:\n",
    "    print(\"Bring down to 1000ft \")\n",
    "elif Altitude <= 1000:\n",
    "    print(\"Safe to land \")\n",
    "else:\n",
    "    print(\" Turn Around and Try later \")"
   ]
  },
  {
   "cell_type": "code",
   "execution_count": null,
   "metadata": {},
   "outputs": [],
   "source": []
  }
 ],
 "metadata": {
  "kernelspec": {
   "display_name": "Python 3",
   "language": "python",
   "name": "python3"
  },
  "language_info": {
   "codemirror_mode": {
    "name": "ipython",
    "version": 3
   },
   "file_extension": ".py",
   "mimetype": "text/x-python",
   "name": "python",
   "nbconvert_exporter": "python",
   "pygments_lexer": "ipython3",
   "version": "3.8.3"
  }
 },
 "nbformat": 4,
 "nbformat_minor": 4
}
